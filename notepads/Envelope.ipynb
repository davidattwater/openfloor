{
 "cells": [
  {
   "cell_type": "markdown",
   "metadata": {},
   "source": [
    "# Building Our First Envelope"
   ]
  },
  {
   "cell_type": "code",
   "execution_count": 1,
   "metadata": {},
   "outputs": [],
   "source": [
    "#add ../src to the path ready for python to find it\n",
    "import sys\n",
    "import os\n",
    "sys.path.append(os.path.abspath(os.path.join('..', 'src')))"
   ]
  },
  {
   "cell_type": "markdown",
   "metadata": {},
   "source": [
    "## Set up an Envelope using constructors"
   ]
  },
  {
   "cell_type": "code",
   "execution_count": 2,
   "metadata": {},
   "outputs": [
    {
     "name": "stdout",
     "output_type": "stream",
     "text": [
      "{\n",
      "  \"eventType\": \"utterance\",\n",
      "  \"to\": {\n",
      "    \"speakerUri\": \"tag:userproxy.com,2025:abc123\",\n",
      "    \"serviceUrl\": \"https://userproxy.com\"\n",
      "  },\n",
      "  \"parameters\": {\n",
      "    \"dialogEvent\": {\n",
      "      \"id\": \"de:bd541a12-31ec-4e95-abfa-dd024e4d753c\",\n",
      "      \"speakerUri\": \"tag:userproxy.com,2025:abc123\",\n",
      "      \"span\": {\n",
      "        \"startTime\": \"2025-05-10T00:05:06.517133\"\n",
      "      },\n",
      "      \"features\": {\n",
      "        \"text\": {\n",
      "          \"mimeType\": \"text/plain\",\n",
      "          \"tokens\": [\n",
      "            {\n",
      "              \"value\": \"i want to go to vancouver\"\n",
      "            }\n",
      "          ]\n",
      "        }\n",
      "      }\n",
      "    }\n",
      "  }\n",
      "}\n"
     ]
    }
   ],
   "source": [
    "from openfloor.envelope import *\n",
    "from openfloor.events import *\n",
    "from openfloor.dialog_event import *\n",
    "\n",
    "#create an event\n",
    "dialog_event = DialogEvent.from_json('{\"speakerUri\": \"tag:userproxy.com,2025:abc123\", \"span\": {\"startTime\": \"2024-03-14T12:00:00.000000\"}, \"features\": {\"text\": {\"mimeType\": \"text/plain\", \"tokens\": [{\"value\": \"i want to go to vancouver\"}]}}}')\n",
    "utterance_event=UtteranceEvent(to=To(speakerUri=\"tag:userproxy.com,2025:abc123\", serviceUrl=\"https://userproxy.com\"),dialogEvent=dialog_event)\n",
    "print(utterance_event.to_json(indent=2))"
   ]
  },
  {
   "cell_type": "markdown",
   "metadata": {},
   "source": [
    "# Building Envelope"
   ]
  },
  {
   "cell_type": "markdown",
   "metadata": {},
   "source": [
    "## Define the manifests\n",
    "\n",
    "The openfloor standard uses a predefined format to carry information about conversants in a conversation.   These are called Manifests.\n",
    "\n",
    "The Manifest is split into two parts, an `identification` section and a `capabilities` section.  The `identification` section is the part that is actually used in the envelope to carry information about conversants in the conversation but we will define a full manifest for our agent to show all the parts.\n",
    "\n",
    "There is no difference between users and agents in the openfloor standard so we will define our user and our agent.  Remember that the standard can support multiple simulataneous users and agents conversing around the floor."
   ]
  },
  {
   "cell_type": "code",
   "execution_count": 3,
   "metadata": {},
   "outputs": [
    {
     "name": "stdout",
     "output_type": "stream",
     "text": [
      "Manifest(identification=Identification(speakerUri='tag:dev.travelbot,2025:0001', serviceUrl='https://dev.travelbot.ee/openfloor/conversation', organization='Travelbot Inc.', conversationalName='travelbot', department='Reservations and Customer Service', role='Reservation Specialist', synopsis='Reservation specialist as part of the Travelbot system.'), capabilities=[Capability(keyphrases=['book', 'reserve', 'flight', 'hotel', 'car', 'cruise'], descriptions=['book flights, hotels, cars, and cruises'], languages=['en-us'], supportedLayers=SupportedLayers(input=['text'], output=['text'])), Capability(keyphrases=['billing', 'payment', 'invoice', 'receipt'], descriptions=['Respond to enquiries about billing, payments, and invoices'], languages=['en-us'], supportedLayers=SupportedLayers(input=['text'], output=['text']))])\n",
      "Manifest(identification=Identification(speakerUri='tag:userproxy.com,2025:abc123', serviceUrl='https://userproxy.com', organization=None, conversationalName='John Doe', department=None, role='User', synopsis=None), capabilities=[])\n"
     ]
    }
   ],
   "source": [
    "from openfloor.manifest import *\n",
    "\n",
    "chat_agent_details = Manifest(\n",
    "  identification = Identification(\n",
    "    speakerUri=\"tag:dev.travelbot,2025:0001\", \n",
    "    serviceUrl=\"https://dev.travelbot.ee/openfloor/conversation\",\n",
    "    organization=\"Travelbot Inc.\",\n",
    "    conversationalName=\"travelbot\",\n",
    "    department=\"Reservations and Customer Service\",\n",
    "    role=\"Reservation Specialist\",\n",
    "    synopsis=\"Reservation specialist as part of the Travelbot system.\"),\n",
    "  capabilities = [\n",
    "    Capability(\n",
    "        keyphrases=[\"book\",\"reserve\",\"flight\",\"hotel\",\"car\",\"cruise\"], \n",
    "        descriptions=[\"book flights, hotels, cars, and cruises\"], \n",
    "        languages=[\"en-us\"],\n",
    "        supportedLayers=SupportedLayers(input=[\"text\"], output=[\"text\"])\n",
    "    ),\n",
    "    Capability(\n",
    "        keyphrases=[\"billing\",\"payment\",\"invoice\",\"receipt\"], \n",
    "        descriptions=[\"Respond to enquiries about billing, payments, and invoices\"], \n",
    "        languages=[\"en-us\"],\n",
    "        supportedLayers=SupportedLayers(input=[\"text\"], output=[\"text\"])\n",
    "    )\n",
    "  ]\n",
    ")\n",
    "\n",
    "user_details = Manifest(\n",
    "  Identification(\n",
    "            conversationalName=\"John Doe\",\n",
    "            speakerUri=\"tag:userproxy.com,2025:abc123\", \n",
    "            serviceUrl=\"https://userproxy.com\",\n",
    "            role=\"User\"\n",
    "        )\n",
    ")\n",
    "\n",
    "#print(chat_agent_details.to_json(indent=2))\n",
    "#print(user_details.to_json(indent=2))\n",
    "\n",
    "print(chat_agent_details)\n",
    "print(user_details)"
   ]
  },
  {
   "cell_type": "markdown",
   "metadata": {},
   "source": [
    "## Create an Empty Envelope\n",
    "\n",
    "Here we define the minimal empty conversation envelope.  All envelopes must be assigned to a conversation and have a sender."
   ]
  },
  {
   "cell_type": "code",
   "execution_count": 4,
   "metadata": {},
   "outputs": [
    {
     "name": "stdout",
     "output_type": "stream",
     "text": [
      "{\n",
      "  \"schema\": {\n",
      "    \"version\": \"1.0.0\"\n",
      "  },\n",
      "  \"conversation\": {\n",
      "    \"id\": \"conv:166aea61-7d20-4414-8d17-f62d048000a8\"\n",
      "  },\n",
      "  \"sender\": {\n",
      "    \"speakerUri\": \"tag:userproxy.com,2025:abc123\"\n",
      "  },\n",
      "  \"events\": []\n",
      "}\n"
     ]
    }
   ],
   "source": [
    "from openfloor import UtteranceEvent\n",
    "\n",
    "conversation=Conversation()\n",
    "sender=Sender(speakerUri=user_details.identification.speakerUri)\n",
    "envelope=Envelope(conversation=conversation,sender=sender)\n",
    "\n",
    "print(envelope.to_json(indent=2))"
   ]
  },
  {
   "cell_type": "markdown",
   "metadata": {},
   "source": [
    "## Add Conversants"
   ]
  },
  {
   "cell_type": "code",
   "execution_count": 5,
   "metadata": {},
   "outputs": [
    {
     "name": "stdout",
     "output_type": "stream",
     "text": [
      "Envelope(conversation=Conversation(id='conv:166aea61-7d20-4414-8d17-f62d048000a8', conversants=[Conversant(identification=Identification(speakerUri='tag:userproxy.com,2025:abc123', serviceUrl='https://userproxy.com', organization=None, conversationalName='John Doe', department=None, role='User', synopsis=None), persistentState={}), Conversant(identification=Identification(speakerUri='tag:dev.travelbot,2025:0001', serviceUrl='https://dev.travelbot.ee/openfloor/conversation', organization='Travelbot Inc.', conversationalName='travelbot', department='Reservations and Customer Service', role='Reservation Specialist', synopsis='Reservation specialist as part of the Travelbot system.'), persistentState={})]), sender=Sender(speakerUri='tag:userproxy.com,2025:abc123', serviceUrl=None), schema=Schema(version='1.0.0', url=None), events=[])\n",
      "{'schema': {'version': '1.0.0'}, 'conversation': {'id': 'conv:166aea61-7d20-4414-8d17-f62d048000a8', 'conversants': [{'identification': {'speakerUri': 'tag:userproxy.com,2025:abc123', 'serviceUrl': 'https://userproxy.com', 'conversationalName': 'John Doe', 'role': 'User'}}, {'identification': {'speakerUri': 'tag:dev.travelbot,2025:0001', 'serviceUrl': 'https://dev.travelbot.ee/openfloor/conversation', 'organization': 'Travelbot Inc.', 'conversationalName': 'travelbot', 'department': 'Reservations and Customer Service', 'role': 'Reservation Specialist', 'synopsis': 'Reservation specialist as part of the Travelbot system.'}}]}, 'sender': {'speakerUri': 'tag:userproxy.com,2025:abc123'}, 'events': []}\n"
     ]
    }
   ],
   "source": [
    "chat_agent_persistent_state=PersistentState(\n",
    "  conversationEnded=None,\n",
    "  conversationActive=True,\n",
    "  conversationPaused=False,\n",
    "  conversationResumed=None\n",
    ")\n",
    "conversation.conversants.append(Conversant(user_details.identification))\n",
    "conversation.conversants.append(Conversant(chat_agent_details.identification,persistentState=chat_agent_persistent_state))\n",
    "#print(envelope.to_json(indent=2))\n",
    "print(envelope)\n",
    "print(dict(envelope))"
   ]
  },
  {
   "cell_type": "markdown",
   "metadata": {},
   "source": [
    "### Add UtteranceEvent"
   ]
  },
  {
   "cell_type": "code",
   "execution_count": 6,
   "metadata": {},
   "outputs": [
    {
     "name": "stdout",
     "output_type": "stream",
     "text": [
      "Envelope(conversation=Conversation(id='conv:166aea61-7d20-4414-8d17-f62d048000a8', conversants=[Conversant(identification=Identification(speakerUri='tag:userproxy.com,2025:abc123', serviceUrl='https://userproxy.com', organization=None, conversationalName='John Doe', department=None, role='User', synopsis=None), persistentState={}), Conversant(identification=Identification(speakerUri='tag:dev.travelbot,2025:0001', serviceUrl='https://dev.travelbot.ee/openfloor/conversation', organization='Travelbot Inc.', conversationalName='travelbot', department='Reservations and Customer Service', role='Reservation Specialist', synopsis='Reservation specialist as part of the Travelbot system.'), persistentState={})]), sender=Sender(speakerUri='tag:userproxy.com,2025:abc123', serviceUrl=None), schema=Schema(version='1.0.0', url=None), events=[UtteranceEvent(eventType='utterance', to=None, reason=None, parameters=<openfloor.envelope.Parameters object at 0x7fbe9460e210>)])\n",
      "{'schema': {'version': '1.0.0'}, 'conversation': {'id': 'conv:166aea61-7d20-4414-8d17-f62d048000a8', 'conversants': [{'identification': {'speakerUri': 'tag:userproxy.com,2025:abc123', 'serviceUrl': 'https://userproxy.com', 'conversationalName': 'John Doe', 'role': 'User'}}, {'identification': {'speakerUri': 'tag:dev.travelbot,2025:0001', 'serviceUrl': 'https://dev.travelbot.ee/openfloor/conversation', 'organization': 'Travelbot Inc.', 'conversationalName': 'travelbot', 'department': 'Reservations and Customer Service', 'role': 'Reservation Specialist', 'synopsis': 'Reservation specialist as part of the Travelbot system.'}}]}, 'sender': {'speakerUri': 'tag:userproxy.com,2025:abc123'}, 'events': [{'eventType': 'utterance', 'parameters': {'dialogEvent': {'id': 'de:0a80827a-c74c-4f5d-b71e-0aab3efe04cc', 'speakerUri': 'tag:userproxy.com,2025:abc123', 'span': {'startTime': '2025-05-10T00:05:06.562981'}, 'features': {'text': {'mimeType': 'text/plain', 'tokens': [{'value': 'Give me the times to Vancouver!'}]}}}}}]}\n"
     ]
    }
   ],
   "source": [
    "from openfloor.envelope import *\n",
    "\n",
    "utterance=DialogEvent(speakerUri=user_details.identification.speakerUri,features={\"text\":TextFeature(values=[\"Give me the times to Vancouver!\"])})\n",
    "envelope.events.append(UtteranceEvent(dialogEvent=utterance))\n",
    "\n",
    "#print(envelope.to_json(indent=2))\n",
    "print(envelope)\n",
    "print(dict(envelope))"
   ]
  },
  {
   "cell_type": "code",
   "execution_count": 7,
   "metadata": {},
   "outputs": [
    {
     "name": "stdout",
     "output_type": "stream",
     "text": [
      "Envelope(conversation=Conversation(id='conv:166aea61-7d20-4414-8d17-f62d048000a8', conversants=[Conversant(identification=Identification(speakerUri='tag:userproxy.com,2025:abc123', serviceUrl='https://userproxy.com', organization=None, conversationalName='John Doe', department=None, role='User', synopsis=None), persistentState={}), Conversant(identification=Identification(speakerUri='tag:dev.travelbot,2025:0001', serviceUrl='https://dev.travelbot.ee/openfloor/conversation', organization='Travelbot Inc.', conversationalName='travelbot', department='Reservations and Customer Service', role='Reservation Specialist', synopsis='Reservation specialist as part of the Travelbot system.'), persistentState={})]), sender=Sender(speakerUri='tag:userproxy.com,2025:abc123', serviceUrl=None), schema=Schema(version='1.0.0', url=None), events=[UtteranceEvent(eventType='utterance', to=To(speakerUri='tag:dev.travelbot,2025:0001', serviceUrl=None, private=True), reason=None, parameters=<openfloor.envelope.Parameters object at 0x7fbe9460e930>)])\n",
      "{'schema': {'version': '1.0.0'}, 'conversation': {'id': 'conv:166aea61-7d20-4414-8d17-f62d048000a8', 'conversants': [{'identification': {'speakerUri': 'tag:userproxy.com,2025:abc123', 'serviceUrl': 'https://userproxy.com', 'conversationalName': 'John Doe', 'role': 'User'}}, {'identification': {'speakerUri': 'tag:dev.travelbot,2025:0001', 'serviceUrl': 'https://dev.travelbot.ee/openfloor/conversation', 'organization': 'Travelbot Inc.', 'conversationalName': 'travelbot', 'department': 'Reservations and Customer Service', 'role': 'Reservation Specialist', 'synopsis': 'Reservation specialist as part of the Travelbot system.'}}]}, 'sender': {'speakerUri': 'tag:userproxy.com,2025:abc123'}, 'events': [{'eventType': 'utterance', 'to': {'speakerUri': 'tag:dev.travelbot,2025:0001', 'private': True}, 'parameters': {'dialogEvent': {'id': 'de:885bec8f-03d7-49b2-bed0-75bbf1d257c2', 'speakerUri': 'tag:userproxy.com,2025:abc123', 'span': {'startTime': '2025-05-10T00:05:06.575947'}, 'features': {'text': {'mimeType': 'text/plain', 'tokens': [{'value': 'Give me the times to Vancouver!'}]}}}}}]}\n"
     ]
    }
   ],
   "source": [
    "utterance=DialogEvent(\n",
    "  speakerUri=user_details.identification.speakerUri,\n",
    "  features={\"text\":TextFeature(values=[\"Give me the times to Vancouver!\"])}\n",
    "  )\n",
    "envelope.events[0]=(\n",
    "  UtteranceEvent(\n",
    "    dialogEvent=utterance,\n",
    "    to=To(\n",
    "      speakerUri=chat_agent_details.identification.speakerUri,\n",
    "      private=True\n",
    "    )\n",
    "  )\n",
    ")\n",
    "\n",
    "#print(envelope.to_json(indent=2,as_payload=True))\n",
    "print(envelope)\n",
    "print(dict(envelope))"
   ]
  },
  {
   "cell_type": "markdown",
   "metadata": {},
   "source": [
    "## Add a ContextEvent containing DialogHistory"
   ]
  },
  {
   "cell_type": "code",
   "execution_count": 8,
   "metadata": {},
   "outputs": [
    {
     "name": "stdout",
     "output_type": "stream",
     "text": [
      "{\n",
      "  \"openFloor\": {\n",
      "    \"schema\": {\n",
      "      \"version\": \"1.0.0\"\n",
      "    },\n",
      "    \"conversation\": {\n",
      "      \"id\": \"conv:166aea61-7d20-4414-8d17-f62d048000a8\",\n",
      "      \"conversants\": [\n",
      "        {\n",
      "          \"identification\": {\n",
      "            \"speakerUri\": \"tag:userproxy.com,2025:abc123\",\n",
      "            \"serviceUrl\": \"https://userproxy.com\",\n",
      "            \"conversationalName\": \"John Doe\",\n",
      "            \"role\": \"User\"\n",
      "          }\n",
      "        },\n",
      "        {\n",
      "          \"identification\": {\n",
      "            \"speakerUri\": \"tag:dev.travelbot,2025:0001\",\n",
      "            \"serviceUrl\": \"https://dev.travelbot.ee/openfloor/conversation\",\n",
      "            \"organization\": \"Travelbot Inc.\",\n",
      "            \"conversationalName\": \"travelbot\",\n",
      "            \"department\": \"Reservations and Customer Service\",\n",
      "            \"role\": \"Reservation Specialist\",\n",
      "            \"synopsis\": \"Reservation specialist as part of the Travelbot system.\"\n",
      "          }\n",
      "        }\n",
      "      ]\n",
      "    },\n",
      "    \"sender\": {\n",
      "      \"speakerUri\": \"tag:userproxy.com,2025:abc123\"\n",
      "    },\n",
      "    \"events\": [\n",
      "      {\n",
      "        \"eventType\": \"utterance\",\n",
      "        \"to\": {\n",
      "          \"speakerUri\": \"tag:dev.travelbot,2025:0001\",\n",
      "          \"private\": true\n",
      "        },\n",
      "        \"parameters\": {\n",
      "          \"dialogEvent\": {\n",
      "            \"id\": \"de:885bec8f-03d7-49b2-bed0-75bbf1d257c2\",\n",
      "            \"speakerUri\": \"tag:userproxy.com,2025:abc123\",\n",
      "            \"span\": {\n",
      "              \"startTime\": \"2025-05-10T00:05:06.575947\"\n",
      "            },\n",
      "            \"features\": {\n",
      "              \"text\": {\n",
      "                \"mimeType\": \"text/plain\",\n",
      "                \"tokens\": [\n",
      "                  {\n",
      "                    \"value\": \"Give me the times to Vancouver!\"\n",
      "                  }\n",
      "                ]\n",
      "              }\n",
      "            }\n",
      "          }\n",
      "        }\n",
      "      }\n",
      "    ]\n",
      "  }\n",
      "}\n"
     ]
    }
   ],
   "source": [
    "from openfloor.envelope import *\n",
    "from openfloor.events import *\n",
    "from openfloor.dialog_event import *\n",
    "\n",
    "dialog_history=DialogHistory()\n",
    "dialog_history.append(DialogEvent.from_json('{\"id\": \"event-1\", \"speakerUri\": \"tag:userproxy.com,2025:abc123\", \"span\": {\"startTime\": \"2024-03-14T12:00:00.000000\"}, \"features\": {\"text\": {\"mimeType\": \"text/plain\", \"tokens\": [{\"value\": \"hello\"}]}}}'))\n",
    "dialog_history.append(DialogEvent.from_json('{\"id\": \"event-2\", \"speakerUri\": \"tag:dev.travelbot,2025:0001\", \"span\": {\"startTime\": \"2024-03-14T12:04:00.000000\"}, \"features\": {\"text\": {\"mimeType\": \"text/plain\", \"tokens\": [{\"value\": \"hello, how can i help you?\"}]}}}'))\n",
    "dialog_history.append(DialogEvent.from_json('{\"id\": \"event-3\", \"speakerUri\": \"tag:userproxy.com,2025:abc123\", \"span\": {\"startTime\": \"2024-03-14T12:00:05.000000\"}, \"features\": {\"text\": {\"mimeType\": \"text/plain\", \"tokens\": [{\"value\": \"i need to book a flight\"}]}}}'))\n",
    "dialog_history.append(DialogEvent.from_json('{\"id\": \"event-4\", \"speakerUri\": \"tag:dev.travelbot,2025:0001\", \"span\": {\"startTime\": \"2024-03-14T12:12:00.000000\"}, \"features\": {\"text\": {\"mimeType\": \"text/plain\", \"tokens\": [{\"value\": \"i can help you with that\"}]}}}'))\n",
    "\n",
    "context_event=ContextEvent(dialogHistory=dialog_history)\n",
    "context_event.parameters[\"arbitrary_key\"]=\"arbitrary_value\"\n",
    "#envelope.events.append(context_event)\n",
    "\n",
    "#print the envelope\n",
    "print(envelope.to_json(indent=2,as_payload=True))"
   ]
  },
  {
   "cell_type": "markdown",
   "metadata": {},
   "source": [
    "##  To/From "
   ]
  },
  {
   "cell_type": "code",
   "execution_count": 9,
   "metadata": {},
   "outputs": [
    {
     "name": "stdout",
     "output_type": "stream",
     "text": [
      "{'schema': {'version': '1.0.0'}, 'conversation': {'id': 'conv:166aea61-7d20-4414-8d17-f62d048000a8', 'conversants': [{'identification': {'speakerUri': 'tag:userproxy.com,2025:abc123', 'serviceUrl': 'https://userproxy.com', 'conversationalName': 'John Doe', 'role': 'User'}}, {'identification': {'speakerUri': 'tag:dev.travelbot,2025:0001', 'serviceUrl': 'https://dev.travelbot.ee/openfloor/conversation', 'organization': 'Travelbot Inc.', 'conversationalName': 'travelbot', 'department': 'Reservations and Customer Service', 'role': 'Reservation Specialist', 'synopsis': 'Reservation specialist as part of the Travelbot system.'}}]}, 'sender': {'speakerUri': 'tag:userproxy.com,2025:abc123'}, 'events': [{'eventType': 'utterance', 'to': {'speakerUri': 'tag:dev.travelbot,2025:0001', 'private': True}, 'parameters': {'dialogEvent': {'id': 'de:885bec8f-03d7-49b2-bed0-75bbf1d257c2', 'speakerUri': 'tag:userproxy.com,2025:abc123', 'span': {'startTime': '2025-05-10T00:05:06.575947'}, 'features': {'text': {'mimeType': 'text/plain', 'tokens': [{'value': 'Give me the times to Vancouver!'}]}}}}}]}\n",
      "{'schema': {'version': '1.0.0'}, 'conversation': {'id': 'conv:166aea61-7d20-4414-8d17-f62d048000a8', 'conversants': [{'identification': {'speakerUri': 'tag:userproxy.com,2025:abc123', 'serviceUrl': 'https://userproxy.com', 'conversationalName': 'John Doe', 'role': 'User'}}, {'identification': {'speakerUri': 'tag:dev.travelbot,2025:0001', 'serviceUrl': 'https://dev.travelbot.ee/openfloor/conversation', 'organization': 'Travelbot Inc.', 'conversationalName': 'travelbot', 'department': 'Reservations and Customer Service', 'role': 'Reservation Specialist', 'synopsis': 'Reservation specialist as part of the Travelbot system.'}}]}, 'sender': {'speakerUri': 'tag:userproxy.com,2025:abc123'}, 'events': [{'eventType': 'utterance', 'to': {'speakerUri': 'tag:dev.travelbot,2025:0001', 'private': True}, 'parameters': {'dialogEvent': {'id': 'de:885bec8f-03d7-49b2-bed0-75bbf1d257c2', 'speakerUri': 'tag:userproxy.com,2025:abc123', 'span': {'startTime': '2025-05-10T00:05:06.575947'}, 'features': {'text': {'mimeType': 'text/plain', 'tokens': [{'value': 'Give me the times to Vancouver!'}]}}}}}]}\n"
     ]
    }
   ],
   "source": [
    "#Convert to dict (i.e. python object containing simple JSON equivalent types)\n",
    "dict1=dict(envelope)\n",
    "print(dict1)\n",
    "\n",
    "envelope_from_dict=Envelope.from_dict(dict1)\n",
    "print(dict(envelope_from_dict))"
   ]
  },
  {
   "cell_type": "code",
   "execution_count": 10,
   "metadata": {},
   "outputs": [
    {
     "name": "stdout",
     "output_type": "stream",
     "text": [
      "{\"openFloor\": {\"schema\": {\"version\": \"1.0.0\"}, \"conversation\": {\"id\": \"conv:166aea61-7d20-4414-8d17-f62d048000a8\", \"conversants\": [{\"identification\": {\"speakerUri\": \"tag:userproxy.com,2025:abc123\", \"serviceUrl\": \"https://userproxy.com\", \"conversationalName\": \"John Doe\", \"role\": \"User\"}}, {\"identification\": {\"speakerUri\": \"tag:dev.travelbot,2025:0001\", \"serviceUrl\": \"https://dev.travelbot.ee/openfloor/conversation\", \"organization\": \"Travelbot Inc.\", \"conversationalName\": \"travelbot\", \"department\": \"Reservations and Customer Service\", \"role\": \"Reservation Specialist\", \"synopsis\": \"Reservation specialist as part of the Travelbot system.\"}}]}, \"sender\": {\"speakerUri\": \"tag:userproxy.com,2025:abc123\"}, \"events\": [{\"eventType\": \"utterance\", \"to\": {\"speakerUri\": \"tag:dev.travelbot,2025:0001\", \"private\": true}, \"parameters\": {\"dialogEvent\": {\"id\": \"de:885bec8f-03d7-49b2-bed0-75bbf1d257c2\", \"speakerUri\": \"tag:userproxy.com,2025:abc123\", \"span\": {\"startTime\": \"2025-05-10T00:05:06.575947\"}, \"features\": {\"text\": {\"mimeType\": \"text/plain\", \"tokens\": [{\"value\": \"Give me the times to Vancouver!\"}]}}}}}]}}\n",
      "{\"openFloor\": {\"schema\": {\"version\": \"1.0.0\"}, \"conversation\": {\"id\": \"conv:166aea61-7d20-4414-8d17-f62d048000a8\", \"conversants\": [{\"identification\": {\"speakerUri\": \"tag:userproxy.com,2025:abc123\", \"serviceUrl\": \"https://userproxy.com\", \"conversationalName\": \"John Doe\", \"role\": \"User\"}}, {\"identification\": {\"speakerUri\": \"tag:dev.travelbot,2025:0001\", \"serviceUrl\": \"https://dev.travelbot.ee/openfloor/conversation\", \"organization\": \"Travelbot Inc.\", \"conversationalName\": \"travelbot\", \"department\": \"Reservations and Customer Service\", \"role\": \"Reservation Specialist\", \"synopsis\": \"Reservation specialist as part of the Travelbot system.\"}}]}, \"sender\": {\"speakerUri\": \"tag:userproxy.com,2025:abc123\"}, \"events\": [{\"eventType\": \"utterance\", \"to\": {\"speakerUri\": \"tag:dev.travelbot,2025:0001\", \"private\": true}, \"parameters\": {\"dialogEvent\": {\"id\": \"de:885bec8f-03d7-49b2-bed0-75bbf1d257c2\", \"speakerUri\": \"tag:userproxy.com,2025:abc123\", \"span\": {\"startTime\": \"2025-05-10T00:05:06.575947\"}, \"features\": {\"text\": {\"mimeType\": \"text/plain\", \"tokens\": [{\"value\": \"Give me the times to Vancouver!\"}]}}}}}]}}\n"
     ]
    }
   ],
   "source": [
    "#Convert to JSON string\n",
    "json1=envelope.to_json(as_payload=True)\n",
    "print(json1)\n",
    "\n",
    "#Create from JSON string\n",
    "envelope_from_json=Envelope.from_json(json1,as_payload=True)\n",
    "print(envelope_from_json.to_json(as_payload=True))"
   ]
  },
  {
   "cell_type": "code",
   "execution_count": 13,
   "metadata": {},
   "outputs": [
    {
     "name": "stdout",
     "output_type": "stream",
     "text": [
      "{\"openFloor\": {\"schema\": {\"version\": \"1.0.0\"}, \"conversation\": {\"id\": \"conv:166aea61-7d20-4414-8d17-f62d048000a8\", \"conversants\": [{\"identification\": {\"speakerUri\": \"tag:userproxy.com,2025:abc123\", \"serviceUrl\": \"https://userproxy.com\", \"conversationalName\": \"John Doe\", \"role\": \"User\"}}, {\"identification\": {\"speakerUri\": \"tag:dev.travelbot,2025:0001\", \"serviceUrl\": \"https://dev.travelbot.ee/openfloor/conversation\", \"organization\": \"Travelbot Inc.\", \"conversationalName\": \"travelbot\", \"department\": \"Reservations and Customer Service\", \"role\": \"Reservation Specialist\", \"synopsis\": \"Reservation specialist as part of the Travelbot system.\"}}]}, \"sender\": {\"speakerUri\": \"tag:userproxy.com,2025:abc123\"}, \"events\": [{\"eventType\": \"utterance\", \"to\": {\"speakerUri\": \"tag:dev.travelbot,2025:0001\", \"private\": true}, \"parameters\": {\"dialogEvent\": {\"id\": \"de:885bec8f-03d7-49b2-bed0-75bbf1d257c2\", \"speakerUri\": \"tag:userproxy.com,2025:abc123\", \"span\": {\"startTime\": \"2025-05-10T00:05:06.575947\"}, \"features\": {\"text\": {\"mimeType\": \"text/plain\", \"tokens\": [{\"value\": \"Give me the times to Vancouver!\"}]}}}}}]}}\n",
      "{\"openFloor\": {\"schema\": {\"version\": \"1.0.0\"}, \"conversation\": {\"id\": \"conv:166aea61-7d20-4414-8d17-f62d048000a8\", \"conversants\": [{\"identification\": {\"speakerUri\": \"tag:userproxy.com,2025:abc123\", \"serviceUrl\": \"https://userproxy.com\", \"conversationalName\": \"John Doe\", \"role\": \"User\"}}, {\"identification\": {\"speakerUri\": \"tag:dev.travelbot,2025:0001\", \"serviceUrl\": \"https://dev.travelbot.ee/openfloor/conversation\", \"organization\": \"Travelbot Inc.\", \"conversationalName\": \"travelbot\", \"department\": \"Reservations and Customer Service\", \"role\": \"Reservation Specialist\", \"synopsis\": \"Reservation specialist as part of the Travelbot system.\"}}]}, \"sender\": {\"speakerUri\": \"tag:userproxy.com,2025:abc123\"}, \"events\": [{\"eventType\": \"utterance\", \"to\": {\"speakerUri\": \"tag:dev.travelbot,2025:0001\", \"private\": true}, \"parameters\": {\"dialogEvent\": {\"id\": \"de:885bec8f-03d7-49b2-bed0-75bbf1d257c2\", \"speakerUri\": \"tag:userproxy.com,2025:abc123\", \"span\": {\"startTime\": \"2025-05-10T00:05:06.575947\"}, \"features\": {\"text\": {\"mimeType\": \"text/plain\", \"tokens\": [{\"value\": \"Give me the times to Vancouver!\"}]}}}}}]}}\n"
     ]
    }
   ],
   "source": [
    "#Save as JSON\n",
    "envelope.to_file(\"../sample_json/envelope1.json\",as_payload=True)\n",
    "print(envelope.to_json(as_payload=True))\n",
    "\n",
    "#Create from dictionary\n",
    "envelope_from_file=Envelope.from_file(\"../sample_json/envelope1.json\",as_payload=True)\n",
    "print(envelope_from_file.to_json(as_payload=True))"
   ]
  },
  {
   "cell_type": "markdown",
   "metadata": {},
   "source": [
    "## UtteranceEvent Specialization\n",
    "\n",
    "The UtteranceEvent class specializes the Event class. The TextFeature class specializes the Feature class."
   ]
  },
  {
   "cell_type": "code",
   "execution_count": 12,
   "metadata": {},
   "outputs": [
    {
     "name": "stdout",
     "output_type": "stream",
     "text": [
      "{\n",
      "  \"eventType\": \"utterance\",\n",
      "  \"to\": {\n",
      "    \"speakerUri\": \"tag:userproxy.com,2025:abc123\",\n",
      "    \"serviceUrl\": \"https://userproxy.com\"\n",
      "  },\n",
      "  \"parameters\": {\n",
      "    \"dialogEvent\": {\n",
      "      \"id\": \"de:327e0d5c-bcbe-481e-8d1b-6648b5f0de7b\",\n",
      "      \"speakerUri\": \"tag:userproxy.com,2025:abc123\",\n",
      "      \"span\": {\n",
      "        \"startTime\": \"2025-05-10T00:05:06.640029\"\n",
      "      },\n",
      "      \"features\": {\n",
      "        \"text\": {\n",
      "          \"mimeType\": \"text/plain\",\n",
      "          \"tokens\": [\n",
      "            {\n",
      "              \"value\": \"Hello, world!\"\n",
      "            }\n",
      "          ]\n",
      "        }\n",
      "      }\n",
      "    }\n",
      "  }\n",
      "}\n"
     ]
    }
   ],
   "source": [
    "from openfloor import UtteranceEvent, To\n",
    "\n",
    "utterance=DialogEvent(speakerUri=\"tag:userproxy.com,2025:abc123\",features={\"text\":TextFeature(values=[\"Hello, world!\"])})\n",
    "utt_event=UtteranceEvent(to=To(speakerUri=\"tag:userproxy.com,2025:abc123\", serviceUrl=\"https://userproxy.com\"),dialogEvent=utterance)\n",
    "\n",
    "print(utt_event.to_json(indent=2))\n"
   ]
  }
 ],
 "metadata": {
  "kernelspec": {
   "display_name": "Python 3",
   "language": "python",
   "name": "python3"
  },
  "language_info": {
   "codemirror_mode": {
    "name": "ipython",
    "version": 3
   },
   "file_extension": ".py",
   "mimetype": "text/x-python",
   "name": "python",
   "nbconvert_exporter": "python",
   "pygments_lexer": "ipython3",
   "version": "3.12.7"
  }
 },
 "nbformat": 4,
 "nbformat_minor": 2
}
