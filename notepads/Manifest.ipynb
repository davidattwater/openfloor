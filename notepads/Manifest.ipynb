{
 "cells": [
  {
   "cell_type": "markdown",
   "metadata": {},
   "source": [
    "# "
   ]
  },
  {
   "cell_type": "markdown",
   "metadata": {},
   "source": [
    "# Using the Manifest class\n",
    "\n",
    "The `Manifest` class is a simple data class that is used to publish the identity and capabilities of an agent or conversant.   This noteboook shows how this class can be instantiated using different methods."
   ]
  },
  {
   "cell_type": "code",
   "execution_count": 1,
   "metadata": {},
   "outputs": [],
   "source": [
    "#add ../src to the path ready for python to find it\n",
    "import sys\n",
    "import os\n",
    "\n",
    "# Add the src directory to the Python path\n",
    "sys.path.append(os.path.abspath(os.path.join('..', 'src')))"
   ]
  },
  {
   "cell_type": "markdown",
   "metadata": {},
   "source": [
    "## Build a Manifest using constructors"
   ]
  },
  {
   "cell_type": "code",
   "execution_count": 2,
   "metadata": {},
   "outputs": [
    {
     "name": "stdout",
     "output_type": "stream",
     "text": [
      "{\"identification\": {\"speakerUri\": \"tag:dev.buerokratt.ee,2025:0001\", \"serviceUrl\": \"https://dev.buerokratt.ee/ovonr/conversation\", \"organization\": \"Government of Estonia\", \"conversationalName\": \"Buerokratt\", \"department\": \"Passport Office\", \"role\": \"Immigration Specialist\", \"synopsis\": \"Immigration specialist as part of the Beurocrat system.\"}, \"capabilities\": [{\"keyphrases\": [\"visa\", \"immigration\", \"passport\", \"permanent resident\"], \"descriptions\": [\"international travel to and from Estonia\"], \"languages\": [\"en-us\"], \"supportedLayers\": {\"input\": [\"text\"], \"output\": [\"text\"]}}]}\n"
     ]
    }
   ],
   "source": [
    "from openfloor import *\n",
    "\n",
    "#Create a manifest\n",
    "manifest=Manifest(\n",
    "    identification=Identification(\n",
    "    speakerUri=\"tag:dev.buerokratt.ee,2025:0001\", \n",
    "    serviceUrl=\"https://dev.buerokratt.ee/ovonr/conversation\",\n",
    "    organization=\"Government of Estonia\",\n",
    "    conversationalName=\"Buerokratt\",\n",
    "    department=\"Passport Office\",\n",
    "    role=\"Immigration Specialist\",\n",
    "    synopsis=\"Immigration specialist as part of the Beurocrat system.\"), \n",
    "    capabilities=[Capability(\n",
    "        keyphrases=[\"visa\",\"immigration\",\"passport\",\"permanent resident\"], \n",
    "        descriptions=[\"international travel to and from Estonia\"], \n",
    "        languages=[\"en-us\"],\n",
    "        supportedLayers=SupportedLayers(input=[\"text\"], output=[\"text\"])\n",
    "    )]\n",
    ")\n",
    "#Print the manifest\n",
    "print(manifest.to_json())"
   ]
  },
  {
   "cell_type": "markdown",
   "metadata": {},
   "source": [
    "## Create Manifest from JSON string"
   ]
  },
  {
   "cell_type": "code",
   "execution_count": 3,
   "metadata": {},
   "outputs": [
    {
     "name": "stdout",
     "output_type": "stream",
     "text": [
      "{\"identification\": {\"speakerUri\": \"tag:dev.buerokratt.ee,2025:0001\", \"serviceUrl\": \"https://dev.buerokratt.ee/ovonr/conversation\", \"organization\": \"Government of Estonia\", \"conversationalName\": \"Buerokratt\", \"department\": \"Passport Office\", \"role\": \"Immigration Specialist\", \"synopsis\": \"Immigration specialist as part of the Beurocrat system.\"}, \"capabilities\": [{\"keyphrases\": [\"visa\", \"immigration\", \"passport\", \"permanent resident\"], \"descriptions\": [\"international travel to and from Estonia\"], \"languages\": [\"en-us\"], \"supportedLayers\": {\"input\": [\"text\"], \"output\": [\"text\"]}}]}\n"
     ]
    }
   ],
   "source": [
    "manifest_json='{\"identification\": {\"speakerUri\": \"tag:dev.buerokratt.ee,2025:0001\", \"serviceUrl\": \"https://dev.buerokratt.ee/ovonr/conversation\", \"organization\": \"Government of Estonia\", \"conversationalName\": \"Buerokratt\", \"department\": \"Passport Office\", \"role\": \"Immigration Specialist\", \"synopsis\": \"Immigration specialist as part of the Beurocrat system.\"}, \"capabilities\": [{\"keyphrases\": [\"visa\", \"immigration\", \"passport\", \"permanent resident\"], \"descriptions\": [\"international travel to and from Estonia\"], \"languages\": [\"en-us\"], \"supportedLayers\": {\"input\": [\"text\"], \"output\": [\"text\"]}}]}'\n",
    "\n",
    "manifest=Manifest.from_json(manifest_json)\n",
    "print(manifest.to_json())"
   ]
  },
  {
   "cell_type": "markdown",
   "metadata": {},
   "source": [
    "# Save To File and Load Again"
   ]
  },
  {
   "cell_type": "code",
   "execution_count": 4,
   "metadata": {},
   "outputs": [
    {
     "name": "stdout",
     "output_type": "stream",
     "text": [
      "{\"identification\": {\"speakerUri\": \"tag:dev.buerokratt.ee,2025:0001\", \"serviceUrl\": \"https://dev.buerokratt.ee/ovonr/conversation\", \"organization\": \"Government of Estonia\", \"conversationalName\": \"Buerokratt\", \"department\": \"Passport Office\", \"role\": \"Immigration Specialist\", \"synopsis\": \"Immigration specialist as part of the Beurocrat system.\"}, \"capabilities\": [{\"keyphrases\": [\"visa\", \"immigration\", \"passport\", \"permanent resident\"], \"descriptions\": [\"international travel to and from Estonia\"], \"languages\": [\"en-us\"], \"supportedLayers\": {\"input\": [\"text\"], \"output\": [\"text\"]}}]}\n"
     ]
    }
   ],
   "source": [
    "#Save to json file\n",
    "manifest.to_file(\"../sample_json/manifest1.json\")\n",
    "#Load from json file\n",
    "manifest=Manifest.from_file(\"../sample_json/manifest1.json\")\n",
    "print(manifest.to_json())"
   ]
  }
 ],
 "metadata": {
  "kernelspec": {
   "display_name": "Python 3",
   "language": "python",
   "name": "python3"
  },
  "language_info": {
   "codemirror_mode": {
    "name": "ipython",
    "version": 3
   },
   "file_extension": ".py",
   "mimetype": "text/x-python",
   "name": "python",
   "nbconvert_exporter": "python",
   "pygments_lexer": "ipython3",
   "version": "3.12.7"
  }
 },
 "nbformat": 4,
 "nbformat_minor": 2
}
