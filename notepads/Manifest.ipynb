{
 "cells": [
  {
   "cell_type": "markdown",
   "metadata": {},
   "source": [
    "# "
   ]
  },
  {
   "cell_type": "markdown",
   "metadata": {},
   "source": [
    "# Using the Manifest class\n",
    "\n",
    "The `Manifest` class is a simple data class that is used to publish the identity and capabilities of an agent or conversant.   This noteboook shows how this class can be instantiated."
   ]
  },
  {
   "cell_type": "code",
   "execution_count": 1,
   "metadata": {},
   "outputs": [],
   "source": [
    "#add ../src to the path ready for python to find it\n",
    "import sys\n",
    "import os\n",
    "\n",
    "# Add the src directory to the Python path\n",
    "sys.path.append(os.path.abspath(os.path.join('..', 'src')))"
   ]
  },
  {
   "cell_type": "markdown",
   "metadata": {},
   "source": [
    "## Instantiate using constructors"
   ]
  },
  {
   "cell_type": "code",
   "execution_count": 2,
   "metadata": {},
   "outputs": [
    {
     "name": "stdout",
     "output_type": "stream",
     "text": [
      "{\n",
      "  \"identification\": {\n",
      "    \"speakerUri\": \"tag:dev.buerokratt.ee,2025:0001\",\n",
      "    \"serviceUrl\": \"https://dev.buerokratt.ee/ovonr/conversation\",\n",
      "    \"organization\": \"Government of Estonia\",\n",
      "    \"conversationalName\": \"Buerokratt\",\n",
      "    \"department\": \"Passport Office\",\n",
      "    \"role\": \"Immigration Specialist\",\n",
      "    \"synopsis\": \"Immigration specialist as part of the Beurocrat system.\"\n",
      "  },\n",
      "  \"capabilities\": [\n",
      "    {\n",
      "      \"keyphrases\": [\n",
      "        \"visa\",\n",
      "        \"immigration\",\n",
      "        \"passport\",\n",
      "        \"permanent resident\"\n",
      "      ],\n",
      "      \"descriptions\": [\n",
      "        \"international travel to and from Estonia\"\n",
      "      ],\n",
      "      \"languages\": [\n",
      "        \"en-us\"\n",
      "      ],\n",
      "      \"supportedLayers\": {\n",
      "        \"input\": [\n",
      "          \"text\"\n",
      "        ],\n",
      "        \"output\": [\n",
      "          \"text\"\n",
      "        ]\n",
      "      }\n",
      "    }\n",
      "  ]\n",
      "}\n"
     ]
    }
   ],
   "source": [
    "from openfloor.manifest import *\n",
    "\n",
    "#Create a manifest\n",
    "manifest=Manifest(\n",
    "    identification=Identification(\n",
    "    speakerUri=\"tag:dev.buerokratt.ee,2025:0001\", \n",
    "    serviceUrl=\"https://dev.buerokratt.ee/ovonr/conversation\",\n",
    "    organization=\"Government of Estonia\",\n",
    "    conversationalName=\"Buerokratt\",\n",
    "    department=\"Passport Office\",\n",
    "    role=\"Immigration Specialist\",\n",
    "    synopsis=\"Immigration specialist as part of the Beurocrat system.\"), \n",
    "    capabilities=[Capability(\n",
    "        keyphrases=[\"visa\",\"immigration\",\"passport\",\"permanent resident\"], \n",
    "        descriptions=[\"international travel to and from Estonia\"], \n",
    "        languages=[\"en-us\"],\n",
    "        supportedLayers=SupportedLayers(input=[\"text\"], output=[\"text\"])\n",
    "    )]\n",
    ")\n",
    "#Print the manifest\n",
    "print(manifest.to_json(indent=2))"
   ]
  },
  {
   "cell_type": "code",
   "execution_count": 3,
   "metadata": {},
   "outputs": [
    {
     "name": "stdout",
     "output_type": "stream",
     "text": [
      "{\n",
      "  \"identification\": {\n",
      "    \"speakerUri\": \"tag:dev.buerokratt.ee,2025:0001\",\n",
      "    \"serviceUrl\": \"https://dev.buerokratt.ee/ovonr/conversation\",\n",
      "    \"organization\": \"Government of Estonia\",\n",
      "    \"conversationalName\": \"Buerokratt\",\n",
      "    \"department\": \"Passport Office\",\n",
      "    \"role\": \"Immigration Specialist\",\n",
      "    \"synopsis\": \"Immigration specialist as part of the Beurocrat system.\"\n",
      "  },\n",
      "  \"capabilities\": [\n",
      "    {\n",
      "      \"keyphrases\": [\n",
      "        \"visa\",\n",
      "        \"immigration\",\n",
      "        \"passport\",\n",
      "        \"permanent resident\"\n",
      "      ],\n",
      "      \"descriptions\": [\n",
      "        \"international travel to and from Estonia\"\n",
      "      ],\n",
      "      \"languages\": [\n",
      "        \"en-us\"\n",
      "      ],\n",
      "      \"supportedLayers\": {\n",
      "        \"input\": [\n",
      "          \"text\"\n",
      "        ],\n",
      "        \"output\": [\n",
      "          \"text\"\n",
      "        ]\n",
      "      }\n",
      "    }\n",
      "  ]\n",
      "}\n"
     ]
    }
   ],
   "source": [
    "from openfloor.manifest import *\n",
    "\n",
    "#Instantiate from file\n",
    "manifest=Manifest.from_file(\"../sample_json/manifest1.json\")\n",
    "\n",
    "#Print the manifest\n",
    "print(manifest.to_json(indent=2))\n"
   ]
  }
 ],
 "metadata": {
  "kernelspec": {
   "display_name": "Python 3",
   "language": "python",
   "name": "python3"
  },
  "language_info": {
   "codemirror_mode": {
    "name": "ipython",
    "version": 3
   },
   "file_extension": ".py",
   "mimetype": "text/x-python",
   "name": "python",
   "nbconvert_exporter": "python",
   "pygments_lexer": "ipython3",
   "version": "3.12.7"
  }
 },
 "nbformat": 4,
 "nbformat_minor": 2
}
