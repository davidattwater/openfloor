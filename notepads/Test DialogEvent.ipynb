{
 "cells": [
  {
   "cell_type": "markdown",
   "metadata": {},
   "source": [
    "# Test the DialogEvent class"
   ]
  },
  {
   "cell_type": "code",
   "execution_count": 1,
   "metadata": {},
   "outputs": [],
   "source": [
    "#add ../src to the path ready for python to find it\n",
    "import sys\n",
    "import os\n",
    "\n",
    "# Add the src directory to the Python path\n",
    "sys.path.append(os.path.abspath(os.path.join('..', 'src')))"
   ]
  },
  {
   "cell_type": "code",
   "execution_count": 2,
   "metadata": {},
   "outputs": [
    {
     "name": "stdout",
     "output_type": "stream",
     "text": [
      "Span(startTime='2025-05-07T22:32:51.443116', startOffset=None, endTime=None, endOffset=None)\n",
      "Token(value='Hello, world!', valueUrl=None, span=None, confidence=None, links=[])\n",
      "Feature(mimeType='text/plain', tokens=[Token(value='Hello, world!', valueUrl=None, span=None, confidence=None, links=[])], alternates=[], lang=None, encoding=None, tokenSchema=None)\n",
      "DialogEvent(id='1', speakerUri='1', span=Span(startTime='2025-05-07T22:32:51.443116', startOffset=None, endTime=None, endOffset=None), features={'text': Feature(mimeType='text/plain', tokens=[Token(value='Hello, world!', valueUrl=None, span=None, confidence=None, links=[])], alternates=[], lang=None, encoding=None, tokenSchema=None)}, previousId=None, context=None)\n",
      "{\n",
      "    \"id\": \"1\",\n",
      "    \"speakerUri\": \"1\",\n",
      "    \"span\": {\n",
      "        \"startTime\": \"2025-05-07T22:32:51.443116\"\n",
      "    },\n",
      "    \"features\": {\n",
      "        \"text\": {\n",
      "            \"mimeType\": \"text/plain\",\n",
      "            \"tokens\": [\n",
      "                {\n",
      "                    \"value\": \"Hello, world!\"\n",
      "                }\n",
      "            ]\n",
      "        }\n",
      "    }\n",
      "}\n"
     ]
    }
   ],
   "source": [
    "import openfloor.dialog_event as de\n",
    "import json\n",
    "\n",
    "span=de.Span()\n",
    "token=de.Token(value=\"Hello, world!\")\n",
    "feature=de.Feature(tokens=[token])\n",
    "dialogEvent=de.DialogEvent(id=\"1\",speakerUri=\"1\",span=span,features={\"text\":feature})\n",
    "\n",
    "print(span)\n",
    "print(token)\n",
    "print(feature)\n",
    "print(dialogEvent)\n",
    "\n",
    "#print the dialogEvent as json\n",
    "print(dialogEvent.to_json(indent=4))\n",
    "\n",
    "\n",
    "\n"
   ]
  },
  {
   "cell_type": "code",
   "execution_count": 3,
   "metadata": {},
   "outputs": [
    {
     "name": "stdout",
     "output_type": "stream",
     "text": [
      "DialogEvent(id='event-1', speakerUri='tag:userproxy.com,2025:abc123', span=Span(startTime='2024-03-14T12:00:00.000000', startOffset=None, endTime=datetime.datetime(2024, 3, 14, 12, 0, 1), endOffset=None), features={'text': Feature(mimeType='text/plain', tokens=[Token(value='hello', valueUrl=None, span=None, confidence=0.95, links=[])], alternates=[], lang=None, encoding=None, tokenSchema=None)}, previousId=None, context=None)\n"
     ]
    }
   ],
   "source": [
    "# Example dictionary\n",
    "data = {\n",
    "    \"id\": \"event-1\",\n",
    "    \"speakerUri\": \"tag:userproxy.com,2025:abc123\",\n",
    "    \"span\": {\n",
    "        \"startTime\": \"2024-03-14T12:00:00.000000\",\n",
    "        \"endTime\": \"2024-03-14T12:00:01.000000\"\n",
    "    },\n",
    "    \"features\": {\n",
    "        \"text\": {\n",
    "            \"mimeType\": \"text/plain\",\n",
    "            \"tokens\": [\n",
    "                {\n",
    "                    \"value\": \"hello\",\n",
    "                    \"confidence\": 0.95\n",
    "                }\n",
    "            ]\n",
    "        }\n",
    "    }\n",
    "}\n",
    "\n",
    "# Create a DialogEvent from the dictionary\n",
    "dialog_event = de.DialogEvent.from_dict(data)\n",
    "print(dialog_event)"
   ]
  },
  {
   "cell_type": "code",
   "execution_count": 6,
   "metadata": {},
   "outputs": [
    {
     "name": "stdout",
     "output_type": "stream",
     "text": [
      "{\"startTime\": \"2024-03-14T12:00:00.000000\"}\n",
      "{\"value\": \"hello\", \"confidence\": 0.95}\n",
      "{\"mimeType\": \"text/plain\", \"tokens\": [{\"value\": \"hello\"}]}\n",
      "{\"id\": \"event-1\", \"speakerUri\": \"tag:userproxy.com,2025:abc123\", \"span\": {\"startTime\": \"2024-03-14T12:00:00.000000\"}, \"features\": {\"text\": {\"mimeType\": \"text/plain\", \"tokens\": [{\"value\": \"hello\"}]}}}\n"
     ]
    }
   ],
   "source": [
    "# Create a Span from JSON\n",
    "span_json = '{\"startTime\": \"2024-03-14T12:00:00.000000\"}'\n",
    "span = de.Span.from_json(span_json)\n",
    "print(span.to_json())\n",
    "\n",
    "# Create a Token from JSON\n",
    "token_json = '{\"value\": \"hello\", \"confidence\": 0.95}'\n",
    "token = de.Token.from_json(token_json)\n",
    "print(token.to_json())\n",
    "\n",
    "# Create a Feature from JSON\n",
    "feature_json = '{\"mimeType\": \"text/plain\", \"tokens\": [{\"value\": \"hello\"}]}'\n",
    "feature = de.Feature.from_json(feature_json)\n",
    "print(feature.to_json())\n",
    "\n",
    "# Create a DialogEvent from JSON\n",
    "dialog_event_json = '{\"id\": \"event-1\", \"speakerUri\": \"tag:userproxy.com,2025:abc123\", \"span\": {\"startTime\": \"2024-03-14T12:00:00.000000\"}, \"features\": {\"text\": {\"mimeType\": \"text/plain\", \"tokens\": [{\"value\": \"hello\"}]}}}'\n",
    "dialog_event = de.DialogEvent.from_json(dialog_event_json)\n",
    "print(dialog_event.to_json())\n"
   ]
  }
 ],
 "metadata": {
  "kernelspec": {
   "display_name": "Python 3",
   "language": "python",
   "name": "python3"
  },
  "language_info": {
   "codemirror_mode": {
    "name": "ipython",
    "version": 3
   },
   "file_extension": ".py",
   "mimetype": "text/x-python",
   "name": "python",
   "nbconvert_exporter": "python",
   "pygments_lexer": "ipython3",
   "version": "3.12.7"
  }
 },
 "nbformat": 4,
 "nbformat_minor": 2
}
